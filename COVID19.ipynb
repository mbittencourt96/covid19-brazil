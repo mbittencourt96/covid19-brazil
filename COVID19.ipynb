{
 "cells": [
  {
   "cell_type": "markdown",
   "metadata": {},
   "source": [
    "### Import libraries"
   ]
  },
  {
   "cell_type": "code",
   "execution_count": 25,
   "metadata": {},
   "outputs": [],
   "source": [
    "import folium\n",
    "import pandas as pd \n",
    "import numpy as np\n",
    "import matplotlib.pyplot as plt"
   ]
  },
  {
   "cell_type": "markdown",
   "metadata": {},
   "source": [
    "### Read file and see how the dataframe looks like"
   ]
  },
  {
   "cell_type": "code",
   "execution_count": 3,
   "metadata": {},
   "outputs": [],
   "source": [
    "df_covid = pd.read_csv('covid19.csv',sep=',')"
   ]
  },
  {
   "cell_type": "code",
   "execution_count": 4,
   "metadata": {},
   "outputs": [
    {
     "data": {
      "text/html": [
       "<div>\n",
       "<style scoped>\n",
       "    .dataframe tbody tr th:only-of-type {\n",
       "        vertical-align: middle;\n",
       "    }\n",
       "\n",
       "    .dataframe tbody tr th {\n",
       "        vertical-align: top;\n",
       "    }\n",
       "\n",
       "    .dataframe thead th {\n",
       "        text-align: right;\n",
       "    }\n",
       "</style>\n",
       "<table border=\"1\" class=\"dataframe\">\n",
       "  <thead>\n",
       "    <tr style=\"text-align: right;\">\n",
       "      <th></th>\n",
       "      <th>date</th>\n",
       "      <th>state</th>\n",
       "      <th>city</th>\n",
       "      <th>place_type</th>\n",
       "      <th>confirmed</th>\n",
       "      <th>deaths</th>\n",
       "      <th>is_last</th>\n",
       "      <th>estimated_population_2019</th>\n",
       "      <th>city_ibge_code</th>\n",
       "      <th>confirmed_per_100k_inhabitants</th>\n",
       "      <th>death_rate</th>\n",
       "    </tr>\n",
       "  </thead>\n",
       "  <tbody>\n",
       "    <tr>\n",
       "      <th>0</th>\n",
       "      <td>2020-04-24</td>\n",
       "      <td>AC</td>\n",
       "      <td>Acrelândia</td>\n",
       "      <td>city</td>\n",
       "      <td>12</td>\n",
       "      <td>0</td>\n",
       "      <td>True</td>\n",
       "      <td>15256.0</td>\n",
       "      <td>1200013.0</td>\n",
       "      <td>78.65758</td>\n",
       "      <td>NaN</td>\n",
       "    </tr>\n",
       "    <tr>\n",
       "      <th>1</th>\n",
       "      <td>2020-04-24</td>\n",
       "      <td>AC</td>\n",
       "      <td>Bujari</td>\n",
       "      <td>city</td>\n",
       "      <td>1</td>\n",
       "      <td>0</td>\n",
       "      <td>True</td>\n",
       "      <td>10266.0</td>\n",
       "      <td>1200138.0</td>\n",
       "      <td>9.74089</td>\n",
       "      <td>NaN</td>\n",
       "    </tr>\n",
       "    <tr>\n",
       "      <th>2</th>\n",
       "      <td>2020-04-24</td>\n",
       "      <td>AC</td>\n",
       "      <td>Cruzeiro do Sul</td>\n",
       "      <td>city</td>\n",
       "      <td>5</td>\n",
       "      <td>0</td>\n",
       "      <td>True</td>\n",
       "      <td>88376.0</td>\n",
       "      <td>1200203.0</td>\n",
       "      <td>5.65764</td>\n",
       "      <td>NaN</td>\n",
       "    </tr>\n",
       "    <tr>\n",
       "      <th>3</th>\n",
       "      <td>2020-04-24</td>\n",
       "      <td>AC</td>\n",
       "      <td>Plácido de Castro</td>\n",
       "      <td>city</td>\n",
       "      <td>22</td>\n",
       "      <td>1</td>\n",
       "      <td>True</td>\n",
       "      <td>19761.0</td>\n",
       "      <td>1200385.0</td>\n",
       "      <td>111.33040</td>\n",
       "      <td>0.0455</td>\n",
       "    </tr>\n",
       "    <tr>\n",
       "      <th>4</th>\n",
       "      <td>2020-04-24</td>\n",
       "      <td>AC</td>\n",
       "      <td>Porto Acre</td>\n",
       "      <td>city</td>\n",
       "      <td>1</td>\n",
       "      <td>0</td>\n",
       "      <td>True</td>\n",
       "      <td>18504.0</td>\n",
       "      <td>1200807.0</td>\n",
       "      <td>5.40424</td>\n",
       "      <td>NaN</td>\n",
       "    </tr>\n",
       "  </tbody>\n",
       "</table>\n",
       "</div>"
      ],
      "text/plain": [
       "         date state               city place_type  confirmed  deaths  is_last  \\\n",
       "0  2020-04-24    AC         Acrelândia       city         12       0     True   \n",
       "1  2020-04-24    AC             Bujari       city          1       0     True   \n",
       "2  2020-04-24    AC    Cruzeiro do Sul       city          5       0     True   \n",
       "3  2020-04-24    AC  Plácido de Castro       city         22       1     True   \n",
       "4  2020-04-24    AC         Porto Acre       city          1       0     True   \n",
       "\n",
       "   estimated_population_2019  city_ibge_code  confirmed_per_100k_inhabitants  \\\n",
       "0                    15256.0       1200013.0                        78.65758   \n",
       "1                    10266.0       1200138.0                         9.74089   \n",
       "2                    88376.0       1200203.0                         5.65764   \n",
       "3                    19761.0       1200385.0                       111.33040   \n",
       "4                    18504.0       1200807.0                         5.40424   \n",
       "\n",
       "   death_rate  \n",
       "0         NaN  \n",
       "1         NaN  \n",
       "2         NaN  \n",
       "3      0.0455  \n",
       "4         NaN  "
      ]
     },
     "execution_count": 4,
     "metadata": {},
     "output_type": "execute_result"
    }
   ],
   "source": [
    "df_covid.head()"
   ]
  },
  {
   "cell_type": "markdown",
   "metadata": {},
   "source": [
    "### Get the last data"
   ]
  },
  {
   "cell_type": "code",
   "execution_count": 7,
   "metadata": {},
   "outputs": [],
   "source": [
    "df_covid = df_covid[df_covid['is_last'] == True]"
   ]
  },
  {
   "cell_type": "markdown",
   "metadata": {},
   "source": [
    "### ANALYSIS PER STATE"
   ]
  },
  {
   "cell_type": "markdown",
   "metadata": {},
   "source": [
    "### Group by state"
   ]
  },
  {
   "cell_type": "code",
   "execution_count": 14,
   "metadata": {},
   "outputs": [],
   "source": [
    "df_grouped = df_covid.groupby('state').sum()"
   ]
  },
  {
   "cell_type": "code",
   "execution_count": 15,
   "metadata": {},
   "outputs": [
    {
     "data": {
      "text/html": [
       "<div>\n",
       "<style scoped>\n",
       "    .dataframe tbody tr th:only-of-type {\n",
       "        vertical-align: middle;\n",
       "    }\n",
       "\n",
       "    .dataframe tbody tr th {\n",
       "        vertical-align: top;\n",
       "    }\n",
       "\n",
       "    .dataframe thead th {\n",
       "        text-align: right;\n",
       "    }\n",
       "</style>\n",
       "<table border=\"1\" class=\"dataframe\">\n",
       "  <thead>\n",
       "    <tr style=\"text-align: right;\">\n",
       "      <th></th>\n",
       "      <th>confirmed</th>\n",
       "      <th>deaths</th>\n",
       "      <th>is_last</th>\n",
       "      <th>estimated_population_2019</th>\n",
       "      <th>city_ibge_code</th>\n",
       "      <th>confirmed_per_100k_inhabitants</th>\n",
       "      <th>death_rate</th>\n",
       "    </tr>\n",
       "    <tr>\n",
       "      <th>state</th>\n",
       "      <th></th>\n",
       "      <th></th>\n",
       "      <th></th>\n",
       "      <th></th>\n",
       "      <th></th>\n",
       "      <th></th>\n",
       "      <th></th>\n",
       "    </tr>\n",
       "  </thead>\n",
       "  <tbody>\n",
       "    <tr>\n",
       "      <th>AC</th>\n",
       "      <td>468</td>\n",
       "      <td>22</td>\n",
       "      <td>8.0</td>\n",
       "      <td>1464441.0</td>\n",
       "      <td>8402409.0</td>\n",
       "      <td>292.90190</td>\n",
       "      <td>0.1449</td>\n",
       "    </tr>\n",
       "    <tr>\n",
       "      <th>AL</th>\n",
       "      <td>826</td>\n",
       "      <td>54</td>\n",
       "      <td>27.0</td>\n",
       "      <td>5304423.0</td>\n",
       "      <td>67631668.0</td>\n",
       "      <td>220.23511</td>\n",
       "      <td>6.4494</td>\n",
       "    </tr>\n",
       "    <tr>\n",
       "      <th>AM</th>\n",
       "      <td>5776</td>\n",
       "      <td>468</td>\n",
       "      <td>37.0</td>\n",
       "      <td>7753202.0</td>\n",
       "      <td>46882308.0</td>\n",
       "      <td>1212.24261</td>\n",
       "      <td>4.9842</td>\n",
       "    </tr>\n",
       "    <tr>\n",
       "      <th>AP</th>\n",
       "      <td>1296</td>\n",
       "      <td>36</td>\n",
       "      <td>11.0</td>\n",
       "      <td>1635038.0</td>\n",
       "      <td>16003906.0</td>\n",
       "      <td>452.52947</td>\n",
       "      <td>0.0807</td>\n",
       "    </tr>\n",
       "    <tr>\n",
       "      <th>BA</th>\n",
       "      <td>3958</td>\n",
       "      <td>134</td>\n",
       "      <td>117.0</td>\n",
       "      <td>24059824.0</td>\n",
       "      <td>335329845.0</td>\n",
       "      <td>1468.61731</td>\n",
       "      <td>7.9967</td>\n",
       "    </tr>\n",
       "  </tbody>\n",
       "</table>\n",
       "</div>"
      ],
      "text/plain": [
       "       confirmed  deaths  is_last  estimated_population_2019  city_ibge_code  \\\n",
       "state                                                                          \n",
       "AC           468      22      8.0                  1464441.0       8402409.0   \n",
       "AL           826      54     27.0                  5304423.0      67631668.0   \n",
       "AM          5776     468     37.0                  7753202.0      46882308.0   \n",
       "AP          1296      36     11.0                  1635038.0      16003906.0   \n",
       "BA          3958     134    117.0                 24059824.0     335329845.0   \n",
       "\n",
       "       confirmed_per_100k_inhabitants  death_rate  \n",
       "state                                              \n",
       "AC                          292.90190      0.1449  \n",
       "AL                          220.23511      6.4494  \n",
       "AM                         1212.24261      4.9842  \n",
       "AP                          452.52947      0.0807  \n",
       "BA                         1468.61731      7.9967  "
      ]
     },
     "execution_count": 15,
     "metadata": {},
     "output_type": "execute_result"
    }
   ],
   "source": [
    "df_grouped.head()"
   ]
  },
  {
   "cell_type": "markdown",
   "metadata": {},
   "source": [
    "### Calculate fatality rate per state (Deaths/Confirmed cases)"
   ]
  },
  {
   "cell_type": "code",
   "execution_count": 16,
   "metadata": {},
   "outputs": [],
   "source": [
    "df_grouped['fatality_rate_per_state'] = df_grouped['deaths'] / df_grouped['confirmed']"
   ]
  },
  {
   "cell_type": "code",
   "execution_count": 17,
   "metadata": {},
   "outputs": [],
   "source": [
    "df_grouped.drop('death_rate',axis=1,inplace=True)"
   ]
  },
  {
   "cell_type": "code",
   "execution_count": 18,
   "metadata": {},
   "outputs": [
    {
     "data": {
      "text/html": [
       "<div>\n",
       "<style scoped>\n",
       "    .dataframe tbody tr th:only-of-type {\n",
       "        vertical-align: middle;\n",
       "    }\n",
       "\n",
       "    .dataframe tbody tr th {\n",
       "        vertical-align: top;\n",
       "    }\n",
       "\n",
       "    .dataframe thead th {\n",
       "        text-align: right;\n",
       "    }\n",
       "</style>\n",
       "<table border=\"1\" class=\"dataframe\">\n",
       "  <thead>\n",
       "    <tr style=\"text-align: right;\">\n",
       "      <th></th>\n",
       "      <th>confirmed</th>\n",
       "      <th>deaths</th>\n",
       "      <th>is_last</th>\n",
       "      <th>estimated_population_2019</th>\n",
       "      <th>city_ibge_code</th>\n",
       "      <th>confirmed_per_100k_inhabitants</th>\n",
       "      <th>fatality_rate_per_state</th>\n",
       "    </tr>\n",
       "    <tr>\n",
       "      <th>state</th>\n",
       "      <th></th>\n",
       "      <th></th>\n",
       "      <th></th>\n",
       "      <th></th>\n",
       "      <th></th>\n",
       "      <th></th>\n",
       "      <th></th>\n",
       "    </tr>\n",
       "  </thead>\n",
       "  <tbody>\n",
       "    <tr>\n",
       "      <th>AC</th>\n",
       "      <td>468</td>\n",
       "      <td>22</td>\n",
       "      <td>8.0</td>\n",
       "      <td>1464441.0</td>\n",
       "      <td>8402409.0</td>\n",
       "      <td>292.90190</td>\n",
       "      <td>0.047009</td>\n",
       "    </tr>\n",
       "    <tr>\n",
       "      <th>AL</th>\n",
       "      <td>826</td>\n",
       "      <td>54</td>\n",
       "      <td>27.0</td>\n",
       "      <td>5304423.0</td>\n",
       "      <td>67631668.0</td>\n",
       "      <td>220.23511</td>\n",
       "      <td>0.065375</td>\n",
       "    </tr>\n",
       "    <tr>\n",
       "      <th>AM</th>\n",
       "      <td>5776</td>\n",
       "      <td>468</td>\n",
       "      <td>37.0</td>\n",
       "      <td>7753202.0</td>\n",
       "      <td>46882308.0</td>\n",
       "      <td>1212.24261</td>\n",
       "      <td>0.081025</td>\n",
       "    </tr>\n",
       "    <tr>\n",
       "      <th>AP</th>\n",
       "      <td>1296</td>\n",
       "      <td>36</td>\n",
       "      <td>11.0</td>\n",
       "      <td>1635038.0</td>\n",
       "      <td>16003906.0</td>\n",
       "      <td>452.52947</td>\n",
       "      <td>0.027778</td>\n",
       "    </tr>\n",
       "    <tr>\n",
       "      <th>BA</th>\n",
       "      <td>3958</td>\n",
       "      <td>134</td>\n",
       "      <td>117.0</td>\n",
       "      <td>24059824.0</td>\n",
       "      <td>335329845.0</td>\n",
       "      <td>1468.61731</td>\n",
       "      <td>0.033855</td>\n",
       "    </tr>\n",
       "  </tbody>\n",
       "</table>\n",
       "</div>"
      ],
      "text/plain": [
       "       confirmed  deaths  is_last  estimated_population_2019  city_ibge_code  \\\n",
       "state                                                                          \n",
       "AC           468      22      8.0                  1464441.0       8402409.0   \n",
       "AL           826      54     27.0                  5304423.0      67631668.0   \n",
       "AM          5776     468     37.0                  7753202.0      46882308.0   \n",
       "AP          1296      36     11.0                  1635038.0      16003906.0   \n",
       "BA          3958     134    117.0                 24059824.0     335329845.0   \n",
       "\n",
       "       confirmed_per_100k_inhabitants  fatality_rate_per_state  \n",
       "state                                                           \n",
       "AC                          292.90190                 0.047009  \n",
       "AL                          220.23511                 0.065375  \n",
       "AM                         1212.24261                 0.081025  \n",
       "AP                          452.52947                 0.027778  \n",
       "BA                         1468.61731                 0.033855  "
      ]
     },
     "execution_count": 18,
     "metadata": {},
     "output_type": "execute_result"
    }
   ],
   "source": [
    "df_grouped.head()"
   ]
  },
  {
   "cell_type": "markdown",
   "metadata": {},
   "source": [
    "### Drop columns that we are not going to use"
   ]
  },
  {
   "cell_type": "code",
   "execution_count": 19,
   "metadata": {},
   "outputs": [],
   "source": [
    "df_grouped.drop('confirmed_per_100k_inhabitants',axis=1,inplace=True)"
   ]
  },
  {
   "cell_type": "code",
   "execution_count": 21,
   "metadata": {},
   "outputs": [],
   "source": [
    "df_grouped.drop('city_ibge_code',axis=1,inplace=True)"
   ]
  },
  {
   "cell_type": "code",
   "execution_count": 23,
   "metadata": {},
   "outputs": [],
   "source": [
    "df_grouped.drop('is_last',axis=1,inplace=True)"
   ]
  },
  {
   "cell_type": "markdown",
   "metadata": {},
   "source": [
    "### Plot histogram of confirmed cases per state (Top 10)"
   ]
  },
  {
   "cell_type": "code",
   "execution_count": 30,
   "metadata": {},
   "outputs": [
    {
     "data": {
      "image/png": "[encoded data removed]",
      "text/plain": [
       "<Figure size 720x360 with 1 Axes>"
      ]
     },
     "metadata": {
      "needs_background": "light"
     },
     "output_type": "display_data"
    }
   ],
   "source": [
    "f = plt.figure(figsize=(10,5))\n",
    "\n",
    "plt.axes(axisbelow=True)\n",
    "plt.barh(df_grouped.sort_values('confirmed')['confirmed'].index[-10:],df_grouped.sort_values('confirmed')[\"confirmed\"].values[-10:],color=\"darkcyan\")\n",
    "plt.tick_params(size=5,labelsize = 13)\n",
    "plt.xlabel(\"Confirmed Cases\",fontsize=18)\n",
    "plt.title(\"Top 10 Brazilian states (Confirmed Cases)\",fontsize=20)\n",
    "plt.grid(alpha=0.3)\n",
    "plt.show()"
   ]
  },
  {
   "cell_type": "markdown",
   "metadata": {},
   "source": [
    "### Plot histogram of confirmed deaths per state (Top 10)"
   ]
  },
  {
   "cell_type": "code",
   "execution_count": 32,
   "metadata": {},
   "outputs": [
    {
     "data": {
      "image/png": "[encoded data removed]",
      "text/plain": [
       "<Figure size 720x360 with 1 Axes>"
      ]
     },
     "metadata": {
      "needs_background": "light"
     },
     "output_type": "display_data"
    }
   ],
   "source": [
    "f = plt.figure(figsize=(10,5))\n",
    "\n",
    "plt.axes(axisbelow=True)\n",
    "plt.barh(df_grouped.sort_values('deaths')['deaths'].index[-10:],df_grouped.sort_values('deaths')[\"deaths\"].values[-10:],color=\"crimson\")\n",
    "plt.tick_params(size=5,labelsize = 13)\n",
    "plt.xlabel(\"Confirmed Deaths\",fontsize=18)\n",
    "plt.title(\"Top 10 Brazilian states (Confirmed deaths)\",fontsize=20)\n",
    "plt.grid(alpha=0.3)\n",
    "plt.show()"
   ]
  },
  {
   "cell_type": "markdown",
   "metadata": {},
   "source": [
    "### Plot histogram of fatality rate per state (Top 10)"
   ]
  },
  {
   "cell_type": "code",
   "execution_count": 34,
   "metadata": {},
   "outputs": [
    {
     "data": {
      "image/png": "[encoded data removed]",
      "text/plain": [
       "<Figure size 720x360 with 1 Axes>"
      ]
     },
     "metadata": {
      "needs_background": "light"
     },
     "output_type": "display_data"
    }
   ],
   "source": [
    "f = plt.figure(figsize=(10,5))\n",
    "\n",
    "plt.axes(axisbelow=True)\n",
    "plt.barh(df_grouped.sort_values('fatality_rate_per_state')['fatality_rate_per_state'].index[-10:],df_grouped.sort_values('fatality_rate_per_state')[\"fatality_rate_per_state\"].values[-10:],color=\"darkorange\")\n",
    "plt.tick_params(size=5,labelsize = 13)\n",
    "plt.xlabel(\"Fatality rate\",fontsize=18)\n",
    "plt.title(\"Top 10 Brazilian states (Fatality rate)\",fontsize=20)\n",
    "plt.grid(alpha=0.3)\n",
    "plt.show()"
   ]
  },
  {
   "cell_type": "markdown",
   "metadata": {},
   "source": [
    "### Get latitude and longitude through an api"
   ]
  },
  {
   "cell_type": "code",
   "execution_count": 41,
   "metadata": {},
   "outputs": [],
   "source": [
    "import requests"
   ]
  },
  {
   "cell_type": "code",
   "execution_count": 42,
   "metadata": {},
   "outputs": [],
   "source": [
    "URL = 'http://open.mapquestapi.com/geocoding/v1/address'"
   ]
  },
  {
   "cell_type": "code",
   "execution_count": 66,
   "metadata": {},
   "outputs": [],
   "source": [
    "latitudes = []\n",
    "longitudes = []\n",
    "for x in range(len(df_grouped)):\n",
    "    location = df_grouped.index[x] + \",Brazil\"\n",
    "    PARAMS = {'key':'hMXCQiVHcV57r5zBgd2M9dWZOfoeeN3V','location': location}\n",
    "    r = requests.get(url = URL, params = PARAMS) \n",
    "    latitude = r.json()['results'][0]['locations'][0]['latLng']['lat']\n",
    "    longitude = r.json()['results'][0]['locations'][0]['latLng']['lng']\n",
    "    latitudes.append(latitude)\n",
    "    longitudes.append(longitude)"
   ]
  },
  {
   "cell_type": "code",
   "execution_count": 74,
   "metadata": {},
   "outputs": [],
   "source": [
    "df_grouped.reset_index(inplace=True)"
   ]
  },
  {
   "cell_type": "code",
   "execution_count": 76,
   "metadata": {},
   "outputs": [],
   "source": [
    "df_grouped['latitude'] = pd.Series(latitudes)\n",
    "df_grouped['longitude'] = pd.Series(longitudes)"
   ]
  },
  {
   "cell_type": "code",
   "execution_count": 77,
   "metadata": {},
   "outputs": [
    {
     "data": {
      "text/html": [
       "<div>\n",
       "<style scoped>\n",
       "    .dataframe tbody tr th:only-of-type {\n",
       "        vertical-align: middle;\n",
       "    }\n",
       "\n",
       "    .dataframe tbody tr th {\n",
       "        vertical-align: top;\n",
       "    }\n",
       "\n",
       "    .dataframe thead th {\n",
       "        text-align: right;\n",
       "    }\n",
       "</style>\n",
       "<table border=\"1\" class=\"dataframe\">\n",
       "  <thead>\n",
       "    <tr style=\"text-align: right;\">\n",
       "      <th></th>\n",
       "      <th>state</th>\n",
       "      <th>confirmed</th>\n",
       "      <th>deaths</th>\n",
       "      <th>estimated_population_2019</th>\n",
       "      <th>fatality_rate_per_state</th>\n",
       "      <th>latitude</th>\n",
       "      <th>longitude</th>\n",
       "    </tr>\n",
       "  </thead>\n",
       "  <tbody>\n",
       "    <tr>\n",
       "      <th>0</th>\n",
       "      <td>AC</td>\n",
       "      <td>468</td>\n",
       "      <td>22</td>\n",
       "      <td>1464441.0</td>\n",
       "      <td>0.047009</td>\n",
       "      <td>-9.047868</td>\n",
       "      <td>-70.526498</td>\n",
       "    </tr>\n",
       "    <tr>\n",
       "      <th>1</th>\n",
       "      <td>AL</td>\n",
       "      <td>826</td>\n",
       "      <td>54</td>\n",
       "      <td>5304423.0</td>\n",
       "      <td>0.065375</td>\n",
       "      <td>-9.661166</td>\n",
       "      <td>-36.650243</td>\n",
       "    </tr>\n",
       "    <tr>\n",
       "      <th>2</th>\n",
       "      <td>AM</td>\n",
       "      <td>5776</td>\n",
       "      <td>468</td>\n",
       "      <td>7753202.0</td>\n",
       "      <td>0.081025</td>\n",
       "      <td>-4.479925</td>\n",
       "      <td>-63.518540</td>\n",
       "    </tr>\n",
       "    <tr>\n",
       "      <th>3</th>\n",
       "      <td>AP</td>\n",
       "      <td>1296</td>\n",
       "      <td>36</td>\n",
       "      <td>1635038.0</td>\n",
       "      <td>0.027778</td>\n",
       "      <td>1.354544</td>\n",
       "      <td>-51.916198</td>\n",
       "    </tr>\n",
       "    <tr>\n",
       "      <th>4</th>\n",
       "      <td>BA</td>\n",
       "      <td>3958</td>\n",
       "      <td>134</td>\n",
       "      <td>24059824.0</td>\n",
       "      <td>0.033855</td>\n",
       "      <td>-12.285251</td>\n",
       "      <td>-41.929478</td>\n",
       "    </tr>\n",
       "  </tbody>\n",
       "</table>\n",
       "</div>"
      ],
      "text/plain": [
       "  state  confirmed  deaths  estimated_population_2019  \\\n",
       "0    AC        468      22                  1464441.0   \n",
       "1    AL        826      54                  5304423.0   \n",
       "2    AM       5776     468                  7753202.0   \n",
       "3    AP       1296      36                  1635038.0   \n",
       "4    BA       3958     134                 24059824.0   \n",
       "\n",
       "   fatality_rate_per_state   latitude  longitude  \n",
       "0                 0.047009  -9.047868 -70.526498  \n",
       "1                 0.065375  -9.661166 -36.650243  \n",
       "2                 0.081025  -4.479925 -63.518540  \n",
       "3                 0.027778   1.354544 -51.916198  \n",
       "4                 0.033855 -12.285251 -41.929478  "
      ]
     },
     "execution_count": 77,
     "metadata": {},
     "output_type": "execute_result"
    }
   ],
   "source": [
    "df_grouped.head()"
   ]
  },
  {
   "cell_type": "markdown",
   "metadata": {},
   "source": [
    "### Plot Brazil map where radius is proportional to the number of confirmed cases"
   ]
  },
  {
   "cell_type": "code",
   "execution_count": 85,
   "metadata": {},
   "outputs": [
    {
     "data": {
      "text/html": [
       "<div style=\"width:100%;\"><div style=\"position:relative;width:100%;height:0;padding-bottom:60%;\"><iframe src=\"about:blank\" style=\"position:absolute;width:100%;height:100%;left:0;top:0;border:none !important;\" data-html=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 onload=\"this.contentDocument.open();this.contentDocument.write(atob(this.getAttribute('data-html')));this.contentDocument.close();\" allowfullscreen webkitallowfullscreen mozallowfullscreen></iframe></div></div>"
      ],
      "text/plain": [
       "<folium.folium.Map at 0x29db3ddb908>"
      ]
     },
     "execution_count": 85,
     "metadata": {},
     "output_type": "execute_result"
    }
   ],
   "source": [
    "brazil_map = folium.Map(location=[-14,-51], tiles=\"cartodbpositron\", zoom_start=3,max_zoom=6,min_zoom=2)\n",
    "for i in range(0,len(df_grouped)):\n",
    "    folium.Circle(\n",
    "        location=[df_grouped.iloc[i]['latitude'], df_grouped.iloc[i]['longitude']],\n",
    "        tooltip = \"<h5 style='text-align:center;font-weight: bold'>\"+df_grouped.iloc[i]['state']+\"</h5>\"+\n",
    "                    \"<div style='text-align:center;'></div>\"+\n",
    "                    \"<hr style='margin:10px;'>\"+\n",
    "                    \"<ul style='color: #444;list-style-type:circle;align-item:left;padding-left:20px;padding-right:20px'>\"+\n",
    "        \"<li>Confirmed: \"+str(df_grouped.loc[i,'confirmed'])+\"</li>\"+\n",
    "        \"<li>Deaths:   \"+str(df_grouped.loc[i,'deaths'])+\"</li>\"+\n",
    "        \"<li>Fatality Rate:   \"+str(np.round(df_grouped.loc[i,'fatality_rate_per_state'],3))+\"</li>\"+\n",
    "        \"</ul>\"\n",
    "        ,\n",
    "        radius=(int((np.log(df_grouped.loc[i,'confirmed']+1.00001)))+0.2)*20000,\n",
    "        color='#ff6600',\n",
    "        fill_color='#ff8533',\n",
    "        fill=True).add_to(brazil_map)\n",
    "\n",
    "brazil_map"
   ]
  }
 ],
 "metadata": {
  "kernelspec": {
   "display_name": "Python 3",
   "language": "python",
   "name": "python3"
  },
  "language_info": {
   "codemirror_mode": {
    "name": "ipython",
    "version": 3
   },
   "file_extension": ".py",
   "mimetype": "text/x-python",
   "name": "python",
   "nbconvert_exporter": "python",
   "pygments_lexer": "ipython3",
   "version": "3.7.1"
  }
 },
 "nbformat": 4,
 "nbformat_minor": 2
}
